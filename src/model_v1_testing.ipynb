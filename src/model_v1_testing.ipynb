{
 "cells": [
  {
   "cell_type": "code",
   "execution_count": 1,
   "metadata": {},
   "outputs": [],
   "source": [
    "from tensorflow import keras\n",
    "from tensorflow.keras.models import load_model\n",
    "from tensorflow.keras.preprocessing import image\n",
    "from tensorflow.keras.applications.mobilenet import preprocess_input, decode_predictions\n",
    "from tensorflow.keras.preprocessing.image import ImageDataGenerator\n",
    "\n",
    "from tensorflow.keras import backend as K\n",
    "\n",
    "import tensorflowjs as tfjs\n",
    "\n",
    "\n",
    "\n",
    "from PIL import Image\n",
    "\n",
    "import numpy as np\n",
    "import tensorflow as tf"
   ]
  },
  {
   "cell_type": "code",
   "execution_count": 2,
   "metadata": {},
   "outputs": [
    {
     "name": "stderr",
     "output_type": "stream",
     "text": [
      "WARNING: Logging before flag parsing goes to stderr.\n",
      "W0809 11:22:38.041903 139826341795648 deprecation.py:323] From /media/HDD/DogeNetTFModel/lib/python3.6/site-packages/tensorflow/python/ops/math_grad.py:1250: add_dispatch_support.<locals>.wrapper (from tensorflow.python.ops.array_ops) is deprecated and will be removed in a future version.\n",
      "Instructions for updating:\n",
      "Use tf.where in 2.0, which has the same broadcast rule as np.where\n"
     ]
    }
   ],
   "source": [
    "model = load_model('./saved/model_v1_final.h5')"
   ]
  },
  {
   "cell_type": "code",
   "execution_count": 3,
   "metadata": {},
   "outputs": [],
   "source": [
    "tfjs.converters.save_keras_model(model, \"./\")"
   ]
  },
  {
   "cell_type": "code",
   "execution_count": null,
   "metadata": {},
   "outputs": [],
   "source": []
  },
  {
   "cell_type": "code",
   "execution_count": null,
   "metadata": {},
   "outputs": [],
   "source": []
  },
  {
   "cell_type": "code",
   "execution_count": 6,
   "metadata": {},
   "outputs": [],
   "source": [
    "def prepare_image(file):\n",
    "    img_path = ''\n",
    "    img = image.load_img(img_path + file, target_size=(224, 224))\n",
    "    img_array = np.array(img)\n",
    "    img_array_expanded_dims = np.expand_dims(img_array, axis=0)\n",
    "    return keras.applications.mobilenet.preprocess_input(img_array_expanded_dims)"
   ]
  },
  {
   "cell_type": "code",
   "execution_count": 7,
   "metadata": {},
   "outputs": [
    {
     "data": {
      "text/plain": [
       "array([4])"
      ]
     },
     "execution_count": 7,
     "metadata": {},
     "output_type": "execute_result"
    }
   ],
   "source": [
    "test_image2 = \"./testing/shtzu.jpg\"\n",
    "preprocessed_image = prepare_image(test_image2)\n",
    "predictions = model.predict(preprocessed_image)\n",
    "# results = decode_predictions(predictions)\n",
    "# results\n",
    "predictions\n",
    "predictions.argmax(axis=-1)"
   ]
  },
  {
   "cell_type": "code",
   "execution_count": 8,
   "metadata": {},
   "outputs": [
    {
     "data": {
      "text/plain": [
       "array([102])"
      ]
     },
     "execution_count": 8,
     "metadata": {},
     "output_type": "execute_result"
    }
   ],
   "source": [
    "preprocessed_image = prepare_image(test_image)\n",
    "predictions = model.predict(preprocessed_image)\n",
    "# results = decode_predictions(predictions)\n",
    "# results\n",
    "predictions\n",
    "predictions.argmax(axis=-1)"
   ]
  },
  {
   "cell_type": "code",
   "execution_count": 9,
   "metadata": {},
   "outputs": [
    {
     "data": {
      "text/plain": [
       "array([8])"
      ]
     },
     "execution_count": 9,
     "metadata": {},
     "output_type": "execute_result"
    }
   ],
   "source": [
    "test_image2 = \"./testing/dog.jpg\"\n",
    "preprocessed_image = prepare_image(test_image2)\n",
    "predictions = model.predict(preprocessed_image)\n",
    "# results = decode_predictions(predictions)\n",
    "# results\n",
    "predictions\n",
    "predictions.argmax(axis=-1)"
   ]
  },
  {
   "cell_type": "code",
   "execution_count": 10,
   "metadata": {},
   "outputs": [
    {
     "data": {
      "text/plain": [
       "array([8])"
      ]
     },
     "execution_count": 10,
     "metadata": {},
     "output_type": "execute_result"
    }
   ],
   "source": [
    "predictions.argmax(1)"
   ]
  },
  {
   "cell_type": "code",
   "execution_count": 11,
   "metadata": {},
   "outputs": [
    {
     "ename": "AttributeError",
     "evalue": "module 'tensorflow.python.keras.api._v2.keras.backend' has no attribute 'get_session'",
     "output_type": "error",
     "traceback": [
      "\u001b[0;31m---------------------------------------------------------------------------\u001b[0m",
      "\u001b[0;31mAttributeError\u001b[0m                            Traceback (most recent call last)",
      "\u001b[0;32m<ipython-input-11-efd39f3dc633>\u001b[0m in \u001b[0;36m<module>\u001b[0;34m\u001b[0m\n\u001b[0;32m----> 1\u001b[0;31m \u001b[0mtop_values\u001b[0m\u001b[0;34m,\u001b[0m \u001b[0mtop_indices\u001b[0m \u001b[0;34m=\u001b[0m \u001b[0mK\u001b[0m\u001b[0;34m.\u001b[0m\u001b[0mget_session\u001b[0m\u001b[0;34m(\u001b[0m\u001b[0;34m)\u001b[0m\u001b[0;34m.\u001b[0m\u001b[0mrun\u001b[0m\u001b[0;34m(\u001b[0m\u001b[0mtf\u001b[0m\u001b[0;34m.\u001b[0m\u001b[0mnn\u001b[0m\u001b[0;34m.\u001b[0m\u001b[0mtop_k\u001b[0m\u001b[0;34m(\u001b[0m\u001b[0mpredictions\u001b[0m\u001b[0;34m,\u001b[0m \u001b[0mk\u001b[0m\u001b[0;34m=\u001b[0m\u001b[0;36m5\u001b[0m\u001b[0;34m)\u001b[0m\u001b[0;34m)\u001b[0m\u001b[0;34m\u001b[0m\u001b[0;34m\u001b[0m\u001b[0m\n\u001b[0m",
      "\u001b[0;31mAttributeError\u001b[0m: module 'tensorflow.python.keras.api._v2.keras.backend' has no attribute 'get_session'"
     ]
    }
   ],
   "source": [
    "top_values, top_indices = K.get_session().run(tf.nn.top_k(predictions, k=5))"
   ]
  },
  {
   "cell_type": "code",
   "execution_count": 12,
   "metadata": {},
   "outputs": [
    {
     "ename": "NameError",
     "evalue": "name 'top_values' is not defined",
     "output_type": "error",
     "traceback": [
      "\u001b[0;31m---------------------------------------------------------------------------\u001b[0m",
      "\u001b[0;31mNameError\u001b[0m                                 Traceback (most recent call last)",
      "\u001b[0;32m<ipython-input-12-34c8a60e9d65>\u001b[0m in \u001b[0;36m<module>\u001b[0;34m\u001b[0m\n\u001b[0;32m----> 1\u001b[0;31m \u001b[0mtop_values\u001b[0m\u001b[0;34m\u001b[0m\u001b[0;34m\u001b[0m\u001b[0m\n\u001b[0m",
      "\u001b[0;31mNameError\u001b[0m: name 'top_values' is not defined"
     ]
    }
   ],
   "source": [
    "top_values"
   ]
  },
  {
   "cell_type": "code",
   "execution_count": 13,
   "metadata": {},
   "outputs": [
    {
     "ename": "NameError",
     "evalue": "name 'top_indices' is not defined",
     "output_type": "error",
     "traceback": [
      "\u001b[0;31m---------------------------------------------------------------------------\u001b[0m",
      "\u001b[0;31mNameError\u001b[0m                                 Traceback (most recent call last)",
      "\u001b[0;32m<ipython-input-13-817155ec523c>\u001b[0m in \u001b[0;36m<module>\u001b[0;34m\u001b[0m\n\u001b[0;32m----> 1\u001b[0;31m \u001b[0mtop_indices\u001b[0m\u001b[0;34m\u001b[0m\u001b[0;34m\u001b[0m\u001b[0m\n\u001b[0m",
      "\u001b[0;31mNameError\u001b[0m: name 'top_indices' is not defined"
     ]
    }
   ],
   "source": [
    "top_indices"
   ]
  },
  {
   "cell_type": "code",
   "execution_count": 2,
   "metadata": {},
   "outputs": [
    {
     "name": "stdout",
     "output_type": "stream",
     "text": [
      "Found 20888 images belonging to 121 classes.\n"
     ]
    }
   ],
   "source": [
    "train_datagen = ImageDataGenerator(preprocessing_function=preprocess_input)\n",
    "train_generator = train_datagen.flow_from_directory('../data/Images',\n",
    "                                                  target_size=(224,224),\n",
    "                                                  color_mode='rgb',\n",
    "                                                  batch_size=32,\n",
    "                                                  class_mode='categorical',\n",
    "                                                  shuffle=True)"
   ]
  },
  {
   "cell_type": "code",
   "execution_count": 3,
   "metadata": {},
   "outputs": [],
   "source": [
    "import json"
   ]
  },
  {
   "cell_type": "code",
   "execution_count": 11,
   "metadata": {},
   "outputs": [],
   "source": [
    "output_classes = json.dumps(train_generator.class_indices)"
   ]
  },
  {
   "cell_type": "code",
   "execution_count": 13,
   "metadata": {},
   "outputs": [
    {
     "data": {
      "text/plain": [
       "{'Nothing': 0,\n",
       " 'n02085620-Chihuahua': 1,\n",
       " 'n02085782-Japanese_spaniel': 2,\n",
       " 'n02085936-Maltese_dog': 3,\n",
       " 'n02086079-Pekinese': 4,\n",
       " 'n02086240-Shih-Tzu': 5,\n",
       " 'n02086646-Blenheim_spaniel': 6,\n",
       " 'n02086910-papillon': 7,\n",
       " 'n02087046-toy_terrier': 8,\n",
       " 'n02087394-Rhodesian_ridgeback': 9,\n",
       " 'n02088094-Afghan_hound': 10,\n",
       " 'n02088238-basset': 11,\n",
       " 'n02088364-beagle': 12,\n",
       " 'n02088466-bloodhound': 13,\n",
       " 'n02088632-bluetick': 14,\n",
       " 'n02089078-black-and-tan_coonhound': 15,\n",
       " 'n02089867-Walker_hound': 16,\n",
       " 'n02089973-English_foxhound': 17,\n",
       " 'n02090379-redbone': 18,\n",
       " 'n02090622-borzoi': 19,\n",
       " 'n02090721-Irish_wolfhound': 20,\n",
       " 'n02091032-Italian_greyhound': 21,\n",
       " 'n02091134-whippet': 22,\n",
       " 'n02091244-Ibizan_hound': 23,\n",
       " 'n02091467-Norwegian_elkhound': 24,\n",
       " 'n02091635-otterhound': 25,\n",
       " 'n02091831-Saluki': 26,\n",
       " 'n02092002-Scottish_deerhound': 27,\n",
       " 'n02092339-Weimaraner': 28,\n",
       " 'n02093256-Staffordshire_bullterrier': 29,\n",
       " 'n02093428-American_Staffordshire_terrier': 30,\n",
       " 'n02093647-Bedlington_terrier': 31,\n",
       " 'n02093754-Border_terrier': 32,\n",
       " 'n02093859-Kerry_blue_terrier': 33,\n",
       " 'n02093991-Irish_terrier': 34,\n",
       " 'n02094114-Norfolk_terrier': 35,\n",
       " 'n02094258-Norwich_terrier': 36,\n",
       " 'n02094433-Yorkshire_terrier': 37,\n",
       " 'n02095314-wire-haired_fox_terrier': 38,\n",
       " 'n02095570-Lakeland_terrier': 39,\n",
       " 'n02095889-Sealyham_terrier': 40,\n",
       " 'n02096051-Airedale': 41,\n",
       " 'n02096177-cairn': 42,\n",
       " 'n02096294-Australian_terrier': 43,\n",
       " 'n02096437-Dandie_Dinmont': 44,\n",
       " 'n02096585-Boston_bull': 45,\n",
       " 'n02097047-miniature_schnauzer': 46,\n",
       " 'n02097130-giant_schnauzer': 47,\n",
       " 'n02097209-standard_schnauzer': 48,\n",
       " 'n02097298-Scotch_terrier': 49,\n",
       " 'n02097474-Tibetan_terrier': 50,\n",
       " 'n02097658-silky_terrier': 51,\n",
       " 'n02098105-soft-coated_wheaten_terrier': 52,\n",
       " 'n02098286-West_Highland_white_terrier': 53,\n",
       " 'n02098413-Lhasa': 54,\n",
       " 'n02099267-flat-coated_retriever': 55,\n",
       " 'n02099429-curly-coated_retriever': 56,\n",
       " 'n02099601-golden_retriever': 57,\n",
       " 'n02099712-Labrador_retriever': 58,\n",
       " 'n02099849-Chesapeake_Bay_retriever': 59,\n",
       " 'n02100236-German_short-haired_pointer': 60,\n",
       " 'n02100583-vizsla': 61,\n",
       " 'n02100735-English_setter': 62,\n",
       " 'n02100877-Irish_setter': 63,\n",
       " 'n02101006-Gordon_setter': 64,\n",
       " 'n02101388-Brittany_spaniel': 65,\n",
       " 'n02101556-clumber': 66,\n",
       " 'n02102040-English_springer': 67,\n",
       " 'n02102177-Welsh_springer_spaniel': 68,\n",
       " 'n02102318-cocker_spaniel': 69,\n",
       " 'n02102480-Sussex_spaniel': 70,\n",
       " 'n02102973-Irish_water_spaniel': 71,\n",
       " 'n02104029-kuvasz': 72,\n",
       " 'n02104365-schipperke': 73,\n",
       " 'n02105056-groenendael': 74,\n",
       " 'n02105162-malinois': 75,\n",
       " 'n02105251-briard': 76,\n",
       " 'n02105412-kelpie': 77,\n",
       " 'n02105505-komondor': 78,\n",
       " 'n02105641-Old_English_sheepdog': 79,\n",
       " 'n02105855-Shetland_sheepdog': 80,\n",
       " 'n02106030-collie': 81,\n",
       " 'n02106166-Border_collie': 82,\n",
       " 'n02106382-Bouvier_des_Flandres': 83,\n",
       " 'n02106550-Rottweiler': 84,\n",
       " 'n02106662-German_shepherd': 85,\n",
       " 'n02107142-Doberman': 86,\n",
       " 'n02107312-miniature_pinscher': 87,\n",
       " 'n02107574-Greater_Swiss_Mountain_dog': 88,\n",
       " 'n02107683-Bernese_mountain_dog': 89,\n",
       " 'n02107908-Appenzeller': 90,\n",
       " 'n02108000-EntleBucher': 91,\n",
       " 'n02108089-boxer': 92,\n",
       " 'n02108422-bull_mastiff': 93,\n",
       " 'n02108551-Tibetan_mastiff': 94,\n",
       " 'n02108915-French_bulldog': 95,\n",
       " 'n02109047-Great_Dane': 96,\n",
       " 'n02109525-Saint_Bernard': 97,\n",
       " 'n02109961-Eskimo_dog': 98,\n",
       " 'n02110063-malamute': 99,\n",
       " 'n02110185-Siberian_husky': 100,\n",
       " 'n02110627-affenpinscher': 101,\n",
       " 'n02110806-basenji': 102,\n",
       " 'n02110958-pug': 103,\n",
       " 'n02111129-Leonberg': 104,\n",
       " 'n02111277-Newfoundland': 105,\n",
       " 'n02111500-Great_Pyrenees': 106,\n",
       " 'n02111889-Samoyed': 107,\n",
       " 'n02112018-Pomeranian': 108,\n",
       " 'n02112137-chow': 109,\n",
       " 'n02112350-keeshond': 110,\n",
       " 'n02112706-Brabancon_griffon': 111,\n",
       " 'n02113023-Pembroke': 112,\n",
       " 'n02113186-Cardigan': 113,\n",
       " 'n02113624-toy_poodle': 114,\n",
       " 'n02113712-miniature_poodle': 115,\n",
       " 'n02113799-standard_poodle': 116,\n",
       " 'n02113978-Mexican_hairless': 117,\n",
       " 'n02115641-dingo': 118,\n",
       " 'n02115913-dhole': 119,\n",
       " 'n02116738-African_hunting_dog': 120}"
      ]
     },
     "execution_count": 13,
     "metadata": {},
     "output_type": "execute_result"
    }
   ],
   "source": [
    "output_classes = json.loads(output_classes)\n",
    "output_classes"
   ]
  },
  {
   "cell_type": "code",
   "execution_count": 14,
   "metadata": {},
   "outputs": [
    {
     "name": "stdout",
     "output_type": "stream",
     "text": [
      "Nothing\n",
      "n02085620-Chihuahua\n",
      "n02085782-Japanese_spaniel\n",
      "n02085936-Maltese_dog\n",
      "n02086079-Pekinese\n",
      "n02086240-Shih-Tzu\n",
      "n02086646-Blenheim_spaniel\n",
      "n02086910-papillon\n",
      "n02087046-toy_terrier\n",
      "n02087394-Rhodesian_ridgeback\n",
      "n02088094-Afghan_hound\n",
      "n02088238-basset\n",
      "n02088364-beagle\n",
      "n02088466-bloodhound\n",
      "n02088632-bluetick\n",
      "n02089078-black-and-tan_coonhound\n",
      "n02089867-Walker_hound\n",
      "n02089973-English_foxhound\n",
      "n02090379-redbone\n",
      "n02090622-borzoi\n",
      "n02090721-Irish_wolfhound\n",
      "n02091032-Italian_greyhound\n",
      "n02091134-whippet\n",
      "n02091244-Ibizan_hound\n",
      "n02091467-Norwegian_elkhound\n",
      "n02091635-otterhound\n",
      "n02091831-Saluki\n",
      "n02092002-Scottish_deerhound\n",
      "n02092339-Weimaraner\n",
      "n02093256-Staffordshire_bullterrier\n",
      "n02093428-American_Staffordshire_terrier\n",
      "n02093647-Bedlington_terrier\n",
      "n02093754-Border_terrier\n",
      "n02093859-Kerry_blue_terrier\n",
      "n02093991-Irish_terrier\n",
      "n02094114-Norfolk_terrier\n",
      "n02094258-Norwich_terrier\n",
      "n02094433-Yorkshire_terrier\n",
      "n02095314-wire-haired_fox_terrier\n",
      "n02095570-Lakeland_terrier\n",
      "n02095889-Sealyham_terrier\n",
      "n02096051-Airedale\n",
      "n02096177-cairn\n",
      "n02096294-Australian_terrier\n",
      "n02096437-Dandie_Dinmont\n",
      "n02096585-Boston_bull\n",
      "n02097047-miniature_schnauzer\n",
      "n02097130-giant_schnauzer\n",
      "n02097209-standard_schnauzer\n",
      "n02097298-Scotch_terrier\n",
      "n02097474-Tibetan_terrier\n",
      "n02097658-silky_terrier\n",
      "n02098105-soft-coated_wheaten_terrier\n",
      "n02098286-West_Highland_white_terrier\n",
      "n02098413-Lhasa\n",
      "n02099267-flat-coated_retriever\n",
      "n02099429-curly-coated_retriever\n",
      "n02099601-golden_retriever\n",
      "n02099712-Labrador_retriever\n",
      "n02099849-Chesapeake_Bay_retriever\n",
      "n02100236-German_short-haired_pointer\n",
      "n02100583-vizsla\n",
      "n02100735-English_setter\n",
      "n02100877-Irish_setter\n",
      "n02101006-Gordon_setter\n",
      "n02101388-Brittany_spaniel\n",
      "n02101556-clumber\n",
      "n02102040-English_springer\n",
      "n02102177-Welsh_springer_spaniel\n",
      "n02102318-cocker_spaniel\n",
      "n02102480-Sussex_spaniel\n",
      "n02102973-Irish_water_spaniel\n",
      "n02104029-kuvasz\n",
      "n02104365-schipperke\n",
      "n02105056-groenendael\n",
      "n02105162-malinois\n",
      "n02105251-briard\n",
      "n02105412-kelpie\n",
      "n02105505-komondor\n",
      "n02105641-Old_English_sheepdog\n",
      "n02105855-Shetland_sheepdog\n",
      "n02106030-collie\n",
      "n02106166-Border_collie\n",
      "n02106382-Bouvier_des_Flandres\n",
      "n02106550-Rottweiler\n",
      "n02106662-German_shepherd\n",
      "n02107142-Doberman\n",
      "n02107312-miniature_pinscher\n",
      "n02107574-Greater_Swiss_Mountain_dog\n",
      "n02107683-Bernese_mountain_dog\n",
      "n02107908-Appenzeller\n",
      "n02108000-EntleBucher\n",
      "n02108089-boxer\n",
      "n02108422-bull_mastiff\n",
      "n02108551-Tibetan_mastiff\n",
      "n02108915-French_bulldog\n",
      "n02109047-Great_Dane\n",
      "n02109525-Saint_Bernard\n",
      "n02109961-Eskimo_dog\n",
      "n02110063-malamute\n",
      "n02110185-Siberian_husky\n",
      "n02110627-affenpinscher\n",
      "n02110806-basenji\n",
      "n02110958-pug\n",
      "n02111129-Leonberg\n",
      "n02111277-Newfoundland\n",
      "n02111500-Great_Pyrenees\n",
      "n02111889-Samoyed\n",
      "n02112018-Pomeranian\n",
      "n02112137-chow\n",
      "n02112350-keeshond\n",
      "n02112706-Brabancon_griffon\n",
      "n02113023-Pembroke\n",
      "n02113186-Cardigan\n",
      "n02113624-toy_poodle\n",
      "n02113712-miniature_poodle\n",
      "n02113799-standard_poodle\n",
      "n02113978-Mexican_hairless\n",
      "n02115641-dingo\n",
      "n02115913-dhole\n",
      "n02116738-African_hunting_dog\n"
     ]
    }
   ],
   "source": [
    "for o in output_classes:\n",
    "    print(o)"
   ]
  },
  {
   "cell_type": "code",
   "execution_count": 19,
   "metadata": {},
   "outputs": [],
   "source": [
    "with open('output_classes.json', 'w') as outfile:\n",
    "    json.dump(train_generator.class_indices, outfile)"
   ]
  },
  {
   "cell_type": "code",
   "execution_count": 9,
   "metadata": {},
   "outputs": [
    {
     "data": {
      "text/plain": [
       "'{\"Nothing\": 0, \"n02085620-Chihuahua\": 1, \"n02085782-Japanese_spaniel\": 2, \"n02085936-Maltese_dog\": 3, \"n02086079-Pekinese\": 4, \"n02086240-Shih-Tzu\": 5, \"n02086646-Blenheim_spaniel\": 6, \"n02086910-papillon\": 7, \"n02087046-toy_terrier\": 8, \"n02087394-Rhodesian_ridgeback\": 9, \"n02088094-Afghan_hound\": 10, \"n02088238-basset\": 11, \"n02088364-beagle\": 12, \"n02088466-bloodhound\": 13, \"n02088632-bluetick\": 14, \"n02089078-black-and-tan_coonhound\": 15, \"n02089867-Walker_hound\": 16, \"n02089973-English_foxhound\": 17, \"n02090379-redbone\": 18, \"n02090622-borzoi\": 19, \"n02090721-Irish_wolfhound\": 20, \"n02091032-Italian_greyhound\": 21, \"n02091134-whippet\": 22, \"n02091244-Ibizan_hound\": 23, \"n02091467-Norwegian_elkhound\": 24, \"n02091635-otterhound\": 25, \"n02091831-Saluki\": 26, \"n02092002-Scottish_deerhound\": 27, \"n02092339-Weimaraner\": 28, \"n02093256-Staffordshire_bullterrier\": 29, \"n02093428-American_Staffordshire_terrier\": 30, \"n02093647-Bedlington_terrier\": 31, \"n02093754-Border_terrier\": 32, \"n02093859-Kerry_blue_terrier\": 33, \"n02093991-Irish_terrier\": 34, \"n02094114-Norfolk_terrier\": 35, \"n02094258-Norwich_terrier\": 36, \"n02094433-Yorkshire_terrier\": 37, \"n02095314-wire-haired_fox_terrier\": 38, \"n02095570-Lakeland_terrier\": 39, \"n02095889-Sealyham_terrier\": 40, \"n02096051-Airedale\": 41, \"n02096177-cairn\": 42, \"n02096294-Australian_terrier\": 43, \"n02096437-Dandie_Dinmont\": 44, \"n02096585-Boston_bull\": 45, \"n02097047-miniature_schnauzer\": 46, \"n02097130-giant_schnauzer\": 47, \"n02097209-standard_schnauzer\": 48, \"n02097298-Scotch_terrier\": 49, \"n02097474-Tibetan_terrier\": 50, \"n02097658-silky_terrier\": 51, \"n02098105-soft-coated_wheaten_terrier\": 52, \"n02098286-West_Highland_white_terrier\": 53, \"n02098413-Lhasa\": 54, \"n02099267-flat-coated_retriever\": 55, \"n02099429-curly-coated_retriever\": 56, \"n02099601-golden_retriever\": 57, \"n02099712-Labrador_retriever\": 58, \"n02099849-Chesapeake_Bay_retriever\": 59, \"n02100236-German_short-haired_pointer\": 60, \"n02100583-vizsla\": 61, \"n02100735-English_setter\": 62, \"n02100877-Irish_setter\": 63, \"n02101006-Gordon_setter\": 64, \"n02101388-Brittany_spaniel\": 65, \"n02101556-clumber\": 66, \"n02102040-English_springer\": 67, \"n02102177-Welsh_springer_spaniel\": 68, \"n02102318-cocker_spaniel\": 69, \"n02102480-Sussex_spaniel\": 70, \"n02102973-Irish_water_spaniel\": 71, \"n02104029-kuvasz\": 72, \"n02104365-schipperke\": 73, \"n02105056-groenendael\": 74, \"n02105162-malinois\": 75, \"n02105251-briard\": 76, \"n02105412-kelpie\": 77, \"n02105505-komondor\": 78, \"n02105641-Old_English_sheepdog\": 79, \"n02105855-Shetland_sheepdog\": 80, \"n02106030-collie\": 81, \"n02106166-Border_collie\": 82, \"n02106382-Bouvier_des_Flandres\": 83, \"n02106550-Rottweiler\": 84, \"n02106662-German_shepherd\": 85, \"n02107142-Doberman\": 86, \"n02107312-miniature_pinscher\": 87, \"n02107574-Greater_Swiss_Mountain_dog\": 88, \"n02107683-Bernese_mountain_dog\": 89, \"n02107908-Appenzeller\": 90, \"n02108000-EntleBucher\": 91, \"n02108089-boxer\": 92, \"n02108422-bull_mastiff\": 93, \"n02108551-Tibetan_mastiff\": 94, \"n02108915-French_bulldog\": 95, \"n02109047-Great_Dane\": 96, \"n02109525-Saint_Bernard\": 97, \"n02109961-Eskimo_dog\": 98, \"n02110063-malamute\": 99, \"n02110185-Siberian_husky\": 100, \"n02110627-affenpinscher\": 101, \"n02110806-basenji\": 102, \"n02110958-pug\": 103, \"n02111129-Leonberg\": 104, \"n02111277-Newfoundland\": 105, \"n02111500-Great_Pyrenees\": 106, \"n02111889-Samoyed\": 107, \"n02112018-Pomeranian\": 108, \"n02112137-chow\": 109, \"n02112350-keeshond\": 110, \"n02112706-Brabancon_griffon\": 111, \"n02113023-Pembroke\": 112, \"n02113186-Cardigan\": 113, \"n02113624-toy_poodle\": 114, \"n02113712-miniature_poodle\": 115, \"n02113799-standard_poodle\": 116, \"n02113978-Mexican_hairless\": 117, \"n02115641-dingo\": 118, \"n02115913-dhole\": 119, \"n02116738-African_hunting_dog\": 120}'"
      ]
     },
     "execution_count": 9,
     "metadata": {},
     "output_type": "execute_result"
    }
   ],
   "source": [
    "output_classes"
   ]
  },
  {
   "cell_type": "code",
   "execution_count": null,
   "metadata": {},
   "outputs": [],
   "source": []
  }
 ],
 "metadata": {
  "kernelspec": {
   "display_name": "Python 3",
   "language": "python",
   "name": "python3"
  },
  "language_info": {
   "codemirror_mode": {
    "name": "ipython",
    "version": 3
   },
   "file_extension": ".py",
   "mimetype": "text/x-python",
   "name": "python",
   "nbconvert_exporter": "python",
   "pygments_lexer": "ipython3",
   "version": "3.6.7"
  }
 },
 "nbformat": 4,
 "nbformat_minor": 2
}
